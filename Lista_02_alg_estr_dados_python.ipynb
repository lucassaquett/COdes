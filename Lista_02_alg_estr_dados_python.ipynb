{
  "nbformat": 4,
  "nbformat_minor": 0,
  "metadata": {
    "colab": {
      "provenance": [],
      "authorship_tag": "ABX9TyM9Hm1AW4TcCY0rdkSmDY/o",
      "include_colab_link": true
    },
    "kernelspec": {
      "name": "python3",
      "display_name": "Python 3"
    },
    "language_info": {
      "name": "python"
    }
  },
  "cells": [
    {
      "cell_type": "markdown",
      "metadata": {
        "id": "view-in-github",
        "colab_type": "text"
      },
      "source": [
        "<a href=\"https://colab.research.google.com/github/lucassaquett/COdes/blob/master/Lista_02_alg_estr_dados_python.ipynb\" target=\"_parent\"><img src=\"https://colab.research.google.com/assets/colab-badge.svg\" alt=\"Open In Colab\"/></a>"
      ]
    },
    {
      "cell_type": "code",
      "execution_count": 13,
      "metadata": {
        "colab": {
          "base_uri": "https://localhost:8080/"
        },
        "id": "g2vhe3DSQHEc",
        "outputId": "4c50ba20-3937-40e7-c033-f29906bf6aea"
      },
      "outputs": [
        {
          "output_type": "stream",
          "name": "stdout",
          "text": [
            "Digite o valor inicial (Ini): -10\n",
            "Digite o valor final (Fim): 50\n",
            "Digite o valor do passo: 15\n",
            "\n",
            "     77.00    107.00    137.00    167.00    197.00\n",
            "      2.00     32.00     62.00     92.00    122.00\n",
            "    377.00    407.00    437.00    467.00    497.00\n",
            "      0.57      0.57      0.54      0.47      0.37\n",
            "      0.76      0.76      0.72      0.63      0.49"
          ]
        }
      ],
      "source": [
        "import math\n",
        "\n",
        "def f(x, y):\n",
        "    if -float('inf') < x <= 30:\n",
        "        return x**2 + 2*y - 3\n",
        "    elif 30 < x <= 60:\n",
        "        return math.sin(0.0175 * x) * math.cos(0.0175 * y)\n",
        "    elif 60 < x <= 90:\n",
        "        return 1/(x-2) + y\n",
        "    elif 90 < x <= float('inf'):\n",
        "        return math.pi\n",
        "\n",
        "def obter_entradas():\n",
        "  while True:\n",
        "    Ini = int(input(\"Digite o valor inicial (Ini): \"))\n",
        "    if -150 <= Ini <= 50 : break\n",
        "  while True:\n",
        "    Fim = int(input(\"Digite o valor final (Fim): \"))\n",
        "    if Ini < Fim : break\n",
        "  while True:\n",
        "    Passo = int(input(\"Digite o valor do passo: \"))\n",
        "    if Passo > 0: break\n",
        "  return Ini, Fim, Passo\n",
        "\n",
        "def main():\n",
        "    Ini, Fim, Passo = obter_entradas()\n",
        "    for x in range(Ini, Fim + 1, Passo):\n",
        "        print('')\n",
        "        for y in range(Ini, Fim + 1, Passo):\n",
        "          print(f\"{f(x, y):10.2f}\", end = '')\n",
        "\n",
        "\n",
        "\n",
        "if __name__ == \"__main__\":\n",
        "    main()\n"
      ]
    },
    {
      "cell_type": "code",
      "source": [
        "def itensValue(q):\n",
        "  total = 0\n",
        "  for x in range(q):\n",
        "    preco = float(input(f\". Defina o preço do item {x+1}: \"))\n",
        "    total += preco\n",
        "  return total\n",
        "\n",
        "def isDelivery(str) :\n",
        "  return str.lower() == \"sim\"\n",
        "\n",
        "caixa = True\n",
        "total = 0\n",
        "nPedido = 0\n",
        "while caixa:\n",
        "  qi = int(input(\"Defina a quantidade de itens do pedido: \"))\n",
        "  totalPedido = itensValue(qi)\n",
        "  delivery = isDelivery(input(\". Defina a cobrança do delivery: \"))\n",
        "  if delivery : totalPedido += 15\n",
        "  print(f'. Valor do pedido: R$ {totalPedido:.2f}.')\n",
        "  total += totalPedido\n",
        "  fechamento = isDelivery(input(\"Defina o fechamento do caixa: \"))\n",
        "  nPedido += 1\n",
        "  if fechamento: break\n",
        "\n",
        "print('')\n",
        "print(f'Caixa fechado!')\n",
        "print(f'Número de pedidos: {nPedido}.')\n",
        "print(f'Valor total vendido: R$ {total:.2f}')"
      ],
      "metadata": {
        "colab": {
          "base_uri": "https://localhost:8080/"
        },
        "id": "EhgjBjMnWU6p",
        "outputId": "01c61fa3-76fb-4a2a-d3b2-867c133cf7f1"
      },
      "execution_count": 31,
      "outputs": [
        {
          "output_type": "stream",
          "name": "stdout",
          "text": [
            "Defina a quantidade de itens do pedido: 2\n",
            ". Defina o preço do item 1: 12.35\n",
            ". Defina o preço do item 2: 15.65\n",
            ". Defina a cobrança do delivery: SIM\n",
            ". Valor do pedido: R$ 43.00.\n",
            "Defina o fechamento do caixa: SIM\n",
            "\n",
            "Caixa fechado!\n",
            "Número de pedidos: 1.\n",
            "Valor total vendido: R$ 43.00\n"
          ]
        }
      ]
    },
    {
      "cell_type": "code",
      "source": [
        "def converteMedidas(m):\n",
        "    FT = m * 0.3048\n",
        "    YD = m * 0.9144\n",
        "    return FT, YD\n",
        "\n",
        "num_percursos = int(input(\"Digite a quantidade de percursos: \"))\n",
        "for i in range(1, num_percursos + 1):\n",
        "  print(f'Percurso {i}:')\n",
        "  metros = float(input(f\" - Digite o tamanho em metros: \"))\n",
        "  pes, jardas = converteMedidas(metros)\n",
        "  print(f\"Tamanho em pés............: {pes:.2f}\")\n",
        "  print(f'Tamanho em jardas.........: {jardas:.2f}')"
      ],
      "metadata": {
        "colab": {
          "base_uri": "https://localhost:8080/"
        },
        "id": "33AYSugZ0ORF",
        "outputId": "321c76ac-3abd-4033-b0d1-a139feb32882"
      },
      "execution_count": 5,
      "outputs": [
        {
          "output_type": "stream",
          "name": "stdout",
          "text": [
            "Digite a quantidade de percursos: 3\n",
            "Percurso 1:\n",
            " - Digite o tamanho em metros: 1000\n",
            "Tamanho em pés............: 304.80\n",
            "Tamanho em jardas.........: 914.40\n",
            "Percurso 2:\n",
            " - Digite o tamanho em metros: 1250.45\n",
            "Tamanho em pés............: 381.14\n",
            "Tamanho em jardas.........: 1143.41\n",
            "Percurso 3:\n",
            " - Digite o tamanho em metros: 985.98\n",
            "Tamanho em pés............: 300.53\n",
            "Tamanho em jardas.........: 901.58\n"
          ]
        }
      ]
    },
    {
      "cell_type": "code",
      "source": [
        "def Somatorio(N):\n",
        "    S = 0\n",
        "    for i in range(1, N + 1):\n",
        "        S += 1/i\n",
        "    return S\n",
        "\n",
        "def Produtorio(N):\n",
        "    P = 1\n",
        "    for i in range(1, N + 1):\n",
        "        P *= 2**(1/i)\n",
        "    return P\n",
        "\n",
        "def main():\n",
        "    while True:\n",
        "        try:\n",
        "            N = int(input(\"Defina a quantidade de termos (N): \"))\n",
        "            if N <= 0: break\n",
        "            S = Somatorio(N)\n",
        "            P = Produtorio(N)\n",
        "            print(f\"O valor de S é {S:.3f}\")\n",
        "            print(f\"O valor de P é {P:.3f}\")\n",
        "\n",
        "        except ValueError:\n",
        "            print(\"Erro: Por favor, insira um valor inteiro válido.\")\n",
        "\n",
        "\n",
        "if __name__ == \"__main__\": main()\n"
      ],
      "metadata": {
        "colab": {
          "base_uri": "https://localhost:8080/"
        },
        "id": "bZ-7pva7BDDI",
        "outputId": "31271163-f2a0-4428-9610-53d0e152f05f"
      },
      "execution_count": 8,
      "outputs": [
        {
          "name": "stdout",
          "output_type": "stream",
          "text": [
            "Defina a quantidade de termos (N): 5\n",
            "O valor de S é 2.283\n",
            "O valor de P é 4.868\n",
            "Defina a quantidade de termos (N): 10\n",
            "O valor de S é 2.929\n",
            "O valor de P é 7.616\n",
            "Defina a quantidade de termos (N): 15\n",
            "O valor de S é 3.318\n",
            "O valor de P é 9.974\n",
            "Defina a quantidade de termos (N): 20\n",
            "O valor de S é 3.598\n",
            "O valor de P é 12.107\n",
            "Defina a quantidade de termos (N): 32\n",
            "O valor de S é 4.058\n",
            "O valor de P é 16.662\n",
            "Defina a quantidade de termos (N): 0\n"
          ]
        }
      ]
    },
    {
      "cell_type": "code",
      "source": [
        "import math\n",
        "R = 8.314\n",
        "\n",
        "def variacaoEntropia(TIc, TFc):\n",
        "    TIk = TIc + 273.15\n",
        "    TFk = TFc + 273.15\n",
        "    VE = R * math.log(TFk / TIk)\n",
        "    return VE\n",
        "\n",
        "def main():\n",
        "  num_experimentos = int(input(\"Informe a quantidade de experimentos: \"))\n",
        "  for i in range(1, num_experimentos + 1):\n",
        "    print(f\"\\nExperimento {i}:\")\n",
        "    TIc = float(input(\". Informe a temperatura inicial (Celsius): \"))\n",
        "    TFc = float(input(\". Informe a temperatura final (Celsius): \"))\n",
        "    VE = variacaoEntropia(TIc, TFc)\n",
        "    print(f\". A variação de entropia é {VE:.3f} J/(mol K)\")\n",
        "\n",
        "if __name__ == \"__main__\": main()\n"
      ],
      "metadata": {
        "colab": {
          "base_uri": "https://localhost:8080/"
        },
        "id": "HzqgEDkHD07X",
        "outputId": "6b15dcf9-ada6-4bf9-cd07-49c9987c09bf"
      },
      "execution_count": 9,
      "outputs": [
        {
          "output_type": "stream",
          "name": "stdout",
          "text": [
            "Informe a quantidade de experimentos: 2\n",
            "\n",
            "Experimento 1:\n",
            ". Informe a temperatura inicial (Celsius): 25\n",
            ". Informe a temperatura final (Celsius): 30\n",
            ". A variação de entropia é 0.138 J/(mol K)\n",
            "\n",
            "Experimento 2:\n",
            ". Informe a temperatura inicial (Celsius): 40\n",
            ". Informe a temperatura final (Celsius): 35\n",
            ". A variação de entropia é -0.134 J/(mol K)\n"
          ]
        }
      ]
    },
    {
      "cell_type": "code",
      "source": [
        "import math\n",
        "\n",
        "def calculosParede(Lp, Hp):\n",
        "    Ap = Lp * Hp\n",
        "    if Ap <= 60000:\n",
        "        tipoTijolo = 'A'\n",
        "        At = 171\n",
        "        G = 1000\n",
        "    elif Ap <= 90000:\n",
        "        tipoTijolo = 'B'\n",
        "        At = 200\n",
        "        G = 1200\n",
        "    else:\n",
        "        tipoTijolo = 'C'\n",
        "        At = 300\n",
        "        G = 1400\n",
        "\n",
        "    qtdTijolos = math.ceil(Ap / At)\n",
        "    qtdArgamassa = math.ceil(Ap / G)\n",
        "    return tipoTijolo, qtdTijolos, qtdArgamassa\n",
        "\n",
        "def main():\n",
        "    while True:\n",
        "        Lp = float(input(\"Defina a largura da parede (cm): \"))\n",
        "        Hp = float(input(\"Defina a altura da parede (cm): \"))\n",
        "        if Lp <= 0 or Hp <= 0: break\n",
        "\n",
        "        tipoTijolo, qtdTijolos, qtdArgamassa = calculosParede(Lp, Hp)\n",
        "        print(f\". O tipo de tijolo é: {tipoTijolo}\")\n",
        "        print(f\". A quantidade de tijolos é: {qtdTijolos}\")\n",
        "        print(f\". A quantidade de argamassa é: {qtdArgamassa}\")\n",
        "        print()\n",
        "\n",
        "if __name__ == \"__main__\": main()\n"
      ],
      "metadata": {
        "colab": {
          "base_uri": "https://localhost:8080/"
        },
        "id": "vZ_yXknoFF57",
        "outputId": "40beb1b2-819e-4dba-93ed-3c4b230615cc"
      },
      "execution_count": 11,
      "outputs": [
        {
          "name": "stdout",
          "output_type": "stream",
          "text": [
            "Defina a largura da parede (cm): 150\n",
            "Defina a altura da parede (cm): 200\n",
            ". O tipo de tijolo é: A\n",
            ". A quantidade de tijolos é: 176\n",
            ". A quantidade de argamassa é: 30\n",
            "\n",
            "Defina a largura da parede (cm): 300\n",
            "Defina a altura da parede (cm): 250\n",
            ". O tipo de tijolo é: B\n",
            ". A quantidade de tijolos é: 375\n",
            ". A quantidade de argamassa é: 63\n",
            "\n",
            "Defina a largura da parede (cm): 100\n",
            "Defina a altura da parede (cm): 100\n",
            ". O tipo de tijolo é: A\n",
            ". A quantidade de tijolos é: 59\n",
            ". A quantidade de argamassa é: 10\n",
            "\n",
            "Defina a largura da parede (cm): 450\n",
            "Defina a altura da parede (cm): 300\n",
            ". O tipo de tijolo é: C\n",
            ". A quantidade de tijolos é: 450\n",
            ". A quantidade de argamassa é: 97\n",
            "\n",
            "Defina a largura da parede (cm): 0\n",
            "Defina a altura da parede (cm): 0\n"
          ]
        }
      ]
    },
    {
      "cell_type": "code",
      "source": [
        "def ehPrimo(n):\n",
        "    if n < 2: return False\n",
        "    for i in range(2, int(n**0.5) + 1):\n",
        "        if n % i == 0: return False\n",
        "    return True\n",
        "\n",
        "def getDivisores(n):\n",
        "    divisores = []\n",
        "    for i in range(1, n + 1):\n",
        "        if n % i == 0: divisores.append(i)\n",
        "    return divisores\n",
        "\n",
        "def inputVetor():\n",
        "    entrada = input(\"Digite os números: \").strip()\n",
        "    print()\n",
        "    if not entrada: return None\n",
        "    numeros = [int(x) for x in entrada.split(\",\")]\n",
        "    return numeros\n",
        "\n",
        "def main():\n",
        "    numeros = inputVetor()\n",
        "    if numeros is None:\n",
        "      print(\"Nenhum número informado\")\n",
        "    else:\n",
        "      for num in numeros:\n",
        "        if ehPrimo(num):\n",
        "          print(f\"{num} é um número primo.\")\n",
        "          print()\n",
        "        else:\n",
        "          print(f\"{num} não é um número primo.\")\n",
        "          divisores = getDivisores(num)\n",
        "          print(\"Seus divisores são:\")\n",
        "          print(divisores)\n",
        "          print()\n",
        "\n",
        "if __name__ == \"__main__\": main()\n"
      ],
      "metadata": {
        "colab": {
          "base_uri": "https://localhost:8080/"
        },
        "id": "yhphrhfuH1ip",
        "outputId": "de6c9cb7-1a6f-4a0a-bf36-a5efb12b196f"
      },
      "execution_count": 28,
      "outputs": [
        {
          "output_type": "stream",
          "name": "stdout",
          "text": [
            "Digite os números: 2,3,8,15,29\n",
            "\n",
            "2 é um número primo.\n",
            "\n",
            "3 é um número primo.\n",
            "\n",
            "8 não é um número primo.\n",
            "Seus divisores são:\n",
            "[1, 2, 4, 8]\n",
            "\n",
            "15 não é um número primo.\n",
            "Seus divisores são:\n",
            "[1, 3, 5, 15]\n",
            "\n",
            "29 é um número primo.\n",
            "\n"
          ]
        }
      ]
    },
    {
      "cell_type": "code",
      "source": [
        "def inputVetor(msg):\n",
        "    entrada = input(msg).strip()\n",
        "    if not entrada: return []\n",
        "    return [int(x) for x in entrada.split(\",\")]\n",
        "\n",
        "def calculaLucros(vC, vQ, lC, lQ):\n",
        "    lucros = []\n",
        "    for i in range(len(vC)):\n",
        "        lucroTotal = vC[i] * lC + vQ[i] * lQ\n",
        "        lucros.append(round(lucroTotal, 2))\n",
        "    return lucros\n",
        "\n",
        "def main():\n",
        "    vC = inputVetor(\"Informe as vendas de coxinhas: \")\n",
        "    vQ = inputVetor(\"Informe as vendas de quibes: \")\n",
        "\n",
        "    if len(vC) != len(vQ):\n",
        "        print(\"Dados de vendas inválidos\")\n",
        "        return\n",
        "\n",
        "    lC = float(input(\"Informe o lucro por unidade de coxinha: R$ \"))\n",
        "    lQ = float(input(\"Informe o lucro por unidade de quibe: R$ \"))\n",
        "    lucros = calculaLucros(vC, vQ, lC, lQ)\n",
        "\n",
        "    print(f\"Lucros: {lucros}\")\n",
        "    maiorLucro = max(lucros)\n",
        "    menorLucro = min(lucros)\n",
        "    print(f\"Maior lucro: R$ {maiorLucro:.2f}\")\n",
        "    print(f\"Menor lucro: R$ {menorLucro:.2f}\")\n",
        "\n",
        "if __name__ == \"__main__\": main()\n"
      ],
      "metadata": {
        "colab": {
          "base_uri": "https://localhost:8080/"
        },
        "id": "3jmdqwe-L4NE",
        "outputId": "af1283fa-068f-486a-e3c5-82ab8e3769a4"
      },
      "execution_count": 31,
      "outputs": [
        {
          "output_type": "stream",
          "name": "stdout",
          "text": [
            "Informe as vendas de coxinhas: 4,6,7,8\n",
            "Informe as vendas de quibes: 2\n",
            "Dados de vendas inválidos\n"
          ]
        }
      ]
    },
    {
      "cell_type": "code",
      "source": [
        "def inputVetor(msg):\n",
        "    entrada = input(msg).strip()\n",
        "    if not entrada: return []\n",
        "    return [float(x) for x in entrada.split(\",\")]\n",
        "\n",
        "\n",
        "def calcularMedia(vetor):\n",
        "    return sum(vetor) / len(vetor)\n",
        "\n",
        "def acimaValor(vetor, corte):\n",
        "    indicesAcima = []\n",
        "    for i in range(len(vetor)):\n",
        "        if vetor[i] > corte:\n",
        "            indicesAcima.append(i)\n",
        "    return indicesAcima\n",
        "\n",
        "def main():\n",
        "    notas = inputVetor(\"Digite as notas: \")\n",
        "\n",
        "    if len(notas) == 0:\n",
        "        print(\"Nenhuma nota foi digitada.\")\n",
        "        return\n",
        "\n",
        "    maiorNota = max(notas)\n",
        "    menorNota = min(notas)\n",
        "    media = calcularMedia(notas)\n",
        "\n",
        "    print(f\"Maior nota: {maiorNota:.1f}\")\n",
        "    print(f\"Menor nota: {menorNota:.1f}\")\n",
        "    print(f\"Nota média: {media:.1f}\")\n",
        "\n",
        "    indicesAcima = acimaValor(notas, media)\n",
        "\n",
        "    if len(indicesAcima) == 0:\n",
        "        print(\"Nenhuma nota acima da média.\")\n",
        "    else:\n",
        "        print(\"Notas acima da média:\")\n",
        "        for i in indicesAcima:\n",
        "            print(f\"- [{i}] = {notas[i]:.1f}\")\n",
        "\n",
        "if __name__ == \"__main__\": main()\n"
      ],
      "metadata": {
        "colab": {
          "base_uri": "https://localhost:8080/"
        },
        "id": "ojgWRStR15LK",
        "outputId": "70116df3-135e-4e26-8891-672f3b7bf339"
      },
      "execution_count": 4,
      "outputs": [
        {
          "output_type": "stream",
          "name": "stdout",
          "text": [
            "Digite as notas: 10,3.56,9.8,8.85,7.45\n",
            "Maior nota: 10.0\n",
            "Menor nota: 3.6\n",
            "Nota média: 7.9\n",
            "Notas acima da média:\n",
            "- [0] = 10.0\n",
            "- [2] = 9.8\n",
            "- [3] = 8.8\n"
          ]
        }
      ]
    },
    {
      "cell_type": "code",
      "source": [
        "def inputVetor(msg):\n",
        "    entrada = input(msg).strip()\n",
        "    if not entrada:\n",
        "        return []\n",
        "    return [float(x) for x in entrada.split(\",\")]\n",
        "\n",
        "def inputNomes(msg):\n",
        "    entrada = input(msg).strip()\n",
        "    if not entrada:\n",
        "        return []\n",
        "    return [x.strip() for x in entrada.split(\",\")]\n",
        "\n",
        "def calcularMedia(vetor):\n",
        "    return sum(vetor) / len(vetor)\n",
        "\n",
        "def acimaValor(vetor, corte):\n",
        "    indicesAcima = []\n",
        "    for i in range(len(vetor)):\n",
        "        if vetor[i] > corte:\n",
        "            indicesAcima.append(i)\n",
        "    return indicesAcima\n",
        "\n",
        "def exameEspecial(vetor):\n",
        "    indicesExame = []\n",
        "    for i in range(len(vetor)):\n",
        "        if 3.0 <= vetor[i] < 6.0:\n",
        "            indicesExame.append(i)\n",
        "    return indicesExame\n",
        "\n",
        "def main():\n",
        "    notas = inputVetor(\"Digite as notas: \")\n",
        "    nomes = inputNomes(\"Digite os nomes: \")\n",
        "\n",
        "    if len(notas) == 0 or len(notas) != len(nomes):\n",
        "        print(\"Dados inválidos: número de notas e nomes não correspondem ou nenhum dado foi fornecido.\")\n",
        "        return\n",
        "\n",
        "    maiorNota = max(notas)\n",
        "    menorNota = min(notas)\n",
        "    media = calcularMedia(notas)\n",
        "\n",
        "    print(f\"Maior nota: {maiorNota:.1f}\")\n",
        "    print(f\"Menor nota: {menorNota:.1f}\")\n",
        "    print(f\"Nota média: {media:.1f}\")\n",
        "\n",
        "    indicesAcima = acimaValor(notas, media)\n",
        "\n",
        "    if len(indicesAcima) == 0:\n",
        "        print(\"Notas acima da média:\")\n",
        "    else:\n",
        "        print(\"Notas acima da média:\")\n",
        "        for i in indicesAcima:\n",
        "            print(f\"- [{i}] = {notas[i]:.1f} ({nomes[i]})\")\n",
        "\n",
        "    indicesExame = exameEspecial(notas)\n",
        "\n",
        "    if len(indicesExame) == 0:\n",
        "        print(\"Notas em Exame Especial:\")\n",
        "    else:\n",
        "        print(\"Notas em Exame Especial:\")\n",
        "        for i in indicesExame:\n",
        "            print(f\"- [{i}] = {notas[i]:.1f} ({nomes[i]})\")\n",
        "\n",
        "if __name__ == \"__main__\": main()\n"
      ],
      "metadata": {
        "colab": {
          "base_uri": "https://localhost:8080/"
        },
        "id": "oV0jUVCl43N3",
        "outputId": "1cf09adf-5f70-4e31-9b3f-4b95116c2762"
      },
      "execution_count": 5,
      "outputs": [
        {
          "output_type": "stream",
          "name": "stdout",
          "text": [
            "Digite as notas: 1,2,3,4,5,6,7,8\n",
            "Digite os nomes: Baltazar, Rolando, Boneco, ze, candida, catifunda, capitu, bartolomeu\n",
            "Maior nota: 8.0\n",
            "Menor nota: 1.0\n",
            "Nota média: 4.5\n",
            "Notas acima da média:\n",
            "- [4] = 5.0 (candida)\n",
            "- [5] = 6.0 (catifunda)\n",
            "- [6] = 7.0 (capitu)\n",
            "- [7] = 8.0 (bartolomeu)\n",
            "Notas em Exame Especial:\n",
            "- [2] = 3.0 (Boneco)\n",
            "- [3] = 4.0 (ze)\n",
            "- [4] = 5.0 (candida)\n"
          ]
        }
      ]
    },
    {
      "cell_type": "code",
      "source": [
        "def inputMatriz():\n",
        "    matriz = input(\"Digite os elementos da matriz: \").strip()\n",
        "    linhas = matriz.split(\";\")\n",
        "    matriz_formatada = []\n",
        "\n",
        "    for linha in linhas:\n",
        "        elementos = [int(x) for x in linha.split(\",\")]\n",
        "        matriz_formatada.append(elementos)\n",
        "\n",
        "    return matriz_formatada\n",
        "\n",
        "def ehIdentidade(matriz):\n",
        "\n",
        "    tamanho = len(matriz)\n",
        "\n",
        "    for linha in matriz:\n",
        "        if len(linha) != tamanho:\n",
        "            return False\n",
        "\n",
        "    for i in range(tamanho):\n",
        "        for j in range(tamanho):\n",
        "            if i == j:\n",
        "                if matriz[i][j] != 1:\n",
        "                    return False\n",
        "            else:\n",
        "                if matriz[i][j] != 0:\n",
        "                    return False\n",
        "    return True\n",
        "\n",
        "def main():\n",
        "    matriz = inputMatriz()\n",
        "\n",
        "    if ehIdentidade(matriz):\n",
        "        print(\"A matriz é identidade.\")\n",
        "    else:\n",
        "        print(\"A matriz não é identidade.\")\n",
        "\n",
        "if __name__ == \"__main__\": main()\n"
      ],
      "metadata": {
        "colab": {
          "base_uri": "https://localhost:8080/"
        },
        "id": "RGRuavQ072Pq",
        "outputId": "f830d18e-e184-4706-8f5c-08d97821133d"
      },
      "execution_count": 7,
      "outputs": [
        {
          "output_type": "stream",
          "name": "stdout",
          "text": [
            "Digite os elementos da matriz: 1, 0, 0, 0; 0, 1, 0, 1; 0, 0, 1, 0; 1, 0, 0, 1\n",
            "A matriz não é identidade.\n"
          ]
        }
      ]
    },
    {
      "cell_type": "code",
      "source": [
        "def inputMatriz():\n",
        "    matriz = input(\"Digite a matriz de notas: \").strip()\n",
        "    linhas = matriz.split(\";\")\n",
        "    matrizFormatada = []\n",
        "\n",
        "    for linha in linhas:\n",
        "        elementos = [float(x) for x in linha.split(\",\")]\n",
        "        matrizFormatada.append(elementos)\n",
        "\n",
        "    return matrizFormatada\n",
        "\n",
        "def encontrarMenorNota(matriz):\n",
        "    menorNota = float('inf')\n",
        "    ocorrenciasMenor = []\n",
        "\n",
        "    for i in range(len(matriz)):\n",
        "        for j in range(len(matriz[i])):\n",
        "            if matriz[i][j] < menorNota:\n",
        "                menorNota = matriz[i][j]\n",
        "                ocorrenciasMenor = [[i, j]]\n",
        "            elif matriz[i][j] == menorNota:\n",
        "                ocorrenciasMenor.append([i, j])\n",
        "\n",
        "    return menorNota, ocorrenciasMenor\n",
        "\n",
        "def encontrarMaiorNota(matriz):\n",
        "    maiorNota = float('-inf')\n",
        "    ocorrencias_maior = []\n",
        "\n",
        "    for i in range(len(matriz)):\n",
        "        for j in range(len(matriz[i])):\n",
        "            if matriz[i][j] > maiorNota:\n",
        "                maiorNota = matriz[i][j]\n",
        "                ocorrencias_maior = [[i, j]]\n",
        "            elif matriz[i][j] == maiorNota:\n",
        "                ocorrencias_maior.append([i, j])\n",
        "\n",
        "    return maiorNota, ocorrencias_maior\n",
        "\n",
        "def imprimirOcorrencias(nota, ocorrencias, tipo):\n",
        "    print(f\"{tipo} nota: {nota}\")\n",
        "    print(f\"Ocorrências da {tipo.lower()} nota:\")\n",
        "    for oc in ocorrencias:\n",
        "        print(f\". [{oc[0]}][{oc[1]}]\")\n",
        "\n",
        "def main():\n",
        "    matriz = inputMatriz()\n",
        "\n",
        "    menorNota, ocorrenciasMenor = encontrarMenorNota(matriz)\n",
        "    imprimirOcorrencias(menorNota, ocorrenciasMenor, \"Menor\")\n",
        "\n",
        "    maiorNota, ocorrencias_maior = encontrarMaiorNota(matriz)\n",
        "    imprimirOcorrencias(maiorNota, ocorrencias_maior, \"Maior\")\n",
        "\n",
        "if __name__ == \"__main__\": main()\n"
      ],
      "metadata": {
        "colab": {
          "base_uri": "https://localhost:8080/"
        },
        "id": "FkSv8V359lhW",
        "outputId": "30449158-6d02-4e4c-ee58-8ae1c3844fa8"
      },
      "execution_count": 8,
      "outputs": [
        {
          "output_type": "stream",
          "name": "stdout",
          "text": [
            "Digite a matriz de notas: 5.0,2.5,7.2,2.5;4.8,3.5,5.8,6.0;7.0,8.5,7.5,8.0\n",
            "Menor nota: 2.5\n",
            "Ocorrências da menor nota:\n",
            ". [0][1]\n",
            ". [0][3]\n",
            "Maior nota: 8.5\n",
            "Ocorrências da maior nota:\n",
            ". [2][1]\n"
          ]
        }
      ]
    }
  ]
}